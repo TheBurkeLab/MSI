{
 "cells": [
  {
   "cell_type": "code",
   "execution_count": 65,
   "metadata": {},
   "outputs": [],
   "source": [
    "import numpy as np\n",
    "import pandas as pd"
   ]
  },
  {
   "cell_type": "code",
   "execution_count": 71,
   "metadata": {},
   "outputs": [],
   "source": [
    "x=15\n",
    "df = pd.read_csv('/Users/carlylagrotta/Dropbox/Columbia/MSI/data/branching_reaction_study/Wang_raw_data_OH_7.csv')\n",
    "df1 = pd.read_csv('/Users/carlylagrotta/Dropbox/Columbia/MSI/data/branching_reaction_study/Wang_raw_data_CO_7.csv')\n",
    "\n",
    "#df2 = pd.read_csv('/Users/carlylagrotta/Dropbox/Columbia/MSI/data/klip_optimization_with_raw_data/hong_oh_fake_data_'+str(x)+'_no_unweighted_data.csv')\n",
    "\n",
    "\n"
   ]
  },
  {
   "cell_type": "code",
   "execution_count": 72,
   "metadata": {},
   "outputs": [
    {
     "data": {
      "text/html": [
       "<div>\n",
       "<style scoped>\n",
       "    .dataframe tbody tr th:only-of-type {\n",
       "        vertical-align: middle;\n",
       "    }\n",
       "\n",
       "    .dataframe tbody tr th {\n",
       "        vertical-align: top;\n",
       "    }\n",
       "\n",
       "    .dataframe thead th {\n",
       "        text-align: right;\n",
       "    }\n",
       "</style>\n",
       "<table border=\"1\" class=\"dataframe\">\n",
       "  <thead>\n",
       "    <tr style=\"text-align: right;\">\n",
       "      <th></th>\n",
       "      <th>Time</th>\n",
       "      <th>OH_ppm</th>\n",
       "      <th>Relative_Uncertainty</th>\n",
       "      <th>W</th>\n",
       "    </tr>\n",
       "  </thead>\n",
       "  <tbody>\n",
       "    <tr>\n",
       "      <th>0</th>\n",
       "      <td>0.000362</td>\n",
       "      <td>1.2</td>\n",
       "      <td>0.05</td>\n",
       "      <td>1.000000e-10</td>\n",
       "    </tr>\n",
       "    <tr>\n",
       "      <th>1</th>\n",
       "      <td>0.000362</td>\n",
       "      <td>1.3</td>\n",
       "      <td>0.05</td>\n",
       "      <td>1.000000e-10</td>\n",
       "    </tr>\n",
       "    <tr>\n",
       "      <th>2</th>\n",
       "      <td>0.000363</td>\n",
       "      <td>1.5</td>\n",
       "      <td>0.05</td>\n",
       "      <td>1.000000e-10</td>\n",
       "    </tr>\n",
       "    <tr>\n",
       "      <th>3</th>\n",
       "      <td>0.000363</td>\n",
       "      <td>1.4</td>\n",
       "      <td>0.05</td>\n",
       "      <td>1.000000e-10</td>\n",
       "    </tr>\n",
       "    <tr>\n",
       "      <th>4</th>\n",
       "      <td>0.000364</td>\n",
       "      <td>1.3</td>\n",
       "      <td>0.05</td>\n",
       "      <td>1.000000e-10</td>\n",
       "    </tr>\n",
       "    <tr>\n",
       "      <th>...</th>\n",
       "      <td>...</td>\n",
       "      <td>...</td>\n",
       "      <td>...</td>\n",
       "      <td>...</td>\n",
       "    </tr>\n",
       "    <tr>\n",
       "      <th>4047</th>\n",
       "      <td>0.001998</td>\n",
       "      <td>218.8</td>\n",
       "      <td>0.05</td>\n",
       "      <td>1.000000e-10</td>\n",
       "    </tr>\n",
       "    <tr>\n",
       "      <th>4048</th>\n",
       "      <td>0.001999</td>\n",
       "      <td>219.1</td>\n",
       "      <td>0.05</td>\n",
       "      <td>1.000000e-10</td>\n",
       "    </tr>\n",
       "    <tr>\n",
       "      <th>4049</th>\n",
       "      <td>0.001999</td>\n",
       "      <td>218.6</td>\n",
       "      <td>0.05</td>\n",
       "      <td>1.000000e-10</td>\n",
       "    </tr>\n",
       "    <tr>\n",
       "      <th>4050</th>\n",
       "      <td>0.002000</td>\n",
       "      <td>219.0</td>\n",
       "      <td>0.05</td>\n",
       "      <td>1.000000e-10</td>\n",
       "    </tr>\n",
       "    <tr>\n",
       "      <th>4051</th>\n",
       "      <td>0.002000</td>\n",
       "      <td>218.9</td>\n",
       "      <td>0.05</td>\n",
       "      <td>1.000000e-10</td>\n",
       "    </tr>\n",
       "  </tbody>\n",
       "</table>\n",
       "<p>4052 rows × 4 columns</p>\n",
       "</div>"
      ],
      "text/plain": [
       "          Time  OH_ppm  Relative_Uncertainty             W\n",
       "0     0.000362     1.2                  0.05  1.000000e-10\n",
       "1     0.000362     1.3                  0.05  1.000000e-10\n",
       "2     0.000363     1.5                  0.05  1.000000e-10\n",
       "3     0.000363     1.4                  0.05  1.000000e-10\n",
       "4     0.000364     1.3                  0.05  1.000000e-10\n",
       "...        ...     ...                   ...           ...\n",
       "4047  0.001998   218.8                  0.05  1.000000e-10\n",
       "4048  0.001999   219.1                  0.05  1.000000e-10\n",
       "4049  0.001999   218.6                  0.05  1.000000e-10\n",
       "4050  0.002000   219.0                  0.05  1.000000e-10\n",
       "4051  0.002000   218.9                  0.05  1.000000e-10\n",
       "\n",
       "[4052 rows x 4 columns]"
      ]
     },
     "execution_count": 72,
     "metadata": {},
     "output_type": "execute_result"
    }
   ],
   "source": [
    "df"
   ]
  },
  {
   "cell_type": "code",
   "execution_count": 73,
   "metadata": {},
   "outputs": [],
   "source": [
    "df = df.iloc[::2].reset_index()\n",
    "df = df.iloc[::2].reset_index()\n",
    "W = [(1/(np.sqrt(df.shape[0])))*(1/np.sqrt(7))]\n",
    "W = W*df.shape[0]\n",
    "df['W'] = W\n",
    "df = df[['Time','OH_ppm','Relative_Uncertainty','W']]\n",
    "\n",
    "\n",
    "df.to_csv('/Users/carlylagrotta/Dropbox/Columbia/MSI/data/branching_reaction_study/Wang_raw_data_OH_7_trimmed_rows.csv',index=False)"
   ]
  },
  {
   "cell_type": "code",
   "execution_count": 74,
   "metadata": {},
   "outputs": [],
   "source": [
    "df1 = df1.iloc[::2].reset_index()\n",
    "df1 = df1.iloc[::2].reset_index()\n",
    "W1 = [(1/(np.sqrt(df1.shape[0])))*(1/np.sqrt(16))]\n",
    "W1 = W1*df1.shape[0]\n",
    "df1 = df1[['Time','CO_ppm','Relative_Uncertainty','W']]\n",
    "df1['W'] = W1\n",
    "df1.to_csv('/Users/carlylagrotta/Dropbox/Columbia/MSI/data/branching_reaction_study/Wang_raw_data_CO_7_trimmed_rows.csv',index=False)"
   ]
  },
  {
   "cell_type": "code",
   "execution_count": 188,
   "metadata": {},
   "outputs": [],
   "source": [
    "df2 = df2.iloc[::2].reset_index()\n",
    "df2 = df2.iloc[::2].reset_index()\n",
    "W2 = [(1/(np.sqrt(df2.shape[0])))*(1/np.sqrt(16))]\n",
    "W2 = W2*df2.shape[0]\n",
    "df2['W'] = W2\n",
    "df2 = df2[['Time','OH_ppm','Relative_Uncertainty','W']]\n",
    "\n",
    "\n",
    "df2.to_csv('/Users/carlylagrotta/Dropbox/Columbia/MSI/data/klip_optimization_with_raw_data/hong_oh_fake_data_'+str(x)+'_no_unweighted_data_2.csv',index=False)"
   ]
  },
  {
   "cell_type": "code",
   "execution_count": null,
   "metadata": {},
   "outputs": [],
   "source": []
  }
 ],
 "metadata": {
  "kernelspec": {
   "display_name": "Python 3",
   "language": "python",
   "name": "python3"
  },
  "language_info": {
   "codemirror_mode": {
    "name": "ipython",
    "version": 3
   },
   "file_extension": ".py",
   "mimetype": "text/x-python",
   "name": "python",
   "nbconvert_exporter": "python",
   "pygments_lexer": "ipython3",
   "version": "3.7.6"
  }
 },
 "nbformat": 4,
 "nbformat_minor": 4
}
