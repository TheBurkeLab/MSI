{
 "cells": [
  {
   "cell_type": "code",
   "execution_count": 266,
   "metadata": {},
   "outputs": [],
   "source": [
    "import numpy as np\n",
    "import pandas as pd\n",
    "import copy"
   ]
  },
  {
   "cell_type": "code",
   "execution_count": 267,
   "metadata": {},
   "outputs": [],
   "source": [
    "with open('Chebyshev_sens-2.txt') as f:\n",
    "    lines = [line.rstrip() for line in f]\n"
   ]
  },
  {
   "cell_type": "code",
   "execution_count": 268,
   "metadata": {},
   "outputs": [],
   "source": [
    "key_words = ['B1_Energy_1',\n",
    "             'W1_Frequencies_1',\n",
    "             'B1_NejScale_1',\n",
    "             'B3_VariationalFrequencies_1',\n",
    "             'B3_ImaginaryFrequency_1',\n",
    "             'W1_HinderRotor_1',\n",
    "             'B4_VariationalFrequencies_1',\n",
    "             'B5_Energy_1',\n",
    "             'B3_VariationalEnergy_1',\n",
    "             'W1_Energy_1',\n",
    "             'B4_ImaginaryFrequency_1',\n",
    "             'B5_Frequencies_1',\n",
    "             'B4_VariationalEnergy_1',\n",
    "             'W1_SymmetryFactor_1',\n",
    "             'B5_SymmetryFactor_1']"
   ]
  },
  {
   "cell_type": "code",
   "execution_count": 269,
   "metadata": {},
   "outputs": [],
   "source": [
    "key_word_stored_sens_lists=[]\n",
    "#key_word_temp_list=None\n",
    "counter=None\n",
    "for l in lines:\n",
    "    if l in key_words:\n",
    "        counter = 0\n",
    "        key_word_temp_list = []\n",
    "    if '[[' in l and ']]' in l:\n",
    "        temp_list = []\n",
    "        appnd = True\n",
    "        l = l.replace('[[','')\n",
    "        l = l.replace(']]','')\n",
    "        l_split = l.split(' ')\n",
    "        for i,nmb in enumerate(l_split):\n",
    "            if nmb != '':\n",
    "                nmb = nmb.replace(',','')\n",
    "                temp_list.append(float(nmb))\n",
    "        key_word_temp_list.append(temp_list)\n",
    "        counter+=1\n",
    "    if counter == 5:\n",
    "        key_word_stored_sens_lists.append(key_word_temp_list)\n",
    "        counter=0"
   ]
  },
  {
   "cell_type": "code",
   "execution_count": 270,
   "metadata": {},
   "outputs": [],
   "source": [
    "dict_by_key_words = dict(zip(key_words,key_word_stored_sens_lists))\n"
   ]
  },
  {
   "cell_type": "code",
   "execution_count": 271,
   "metadata": {},
   "outputs": [],
   "source": [
    "original_dict_by_key_words = copy.deepcopy(dict_by_key_words)"
   ]
  },
  {
   "cell_type": "code",
   "execution_count": 272,
   "metadata": {},
   "outputs": [],
   "source": [
    "temp_dict = {}\n",
    "for word in key_words:\n",
    "    temp_dict[word] = []"
   ]
  },
  {
   "cell_type": "code",
   "execution_count": 273,
   "metadata": {},
   "outputs": [],
   "source": [
    "for key in dict_by_key_words:\n",
    "    for i,reaction_set in enumerate(dict_by_key_words[key]):\n",
    "        if 'energy' in key or 'Energy' in key:\n",
    "            temp_arr = np.array(reaction_set)\n",
    "            #print(temp_arr.shape,key,i)\n",
    "            temp_arr = temp_arr.reshape((temp_arr.shape[0],1))\n",
    "            zeros = np.zeros((temp_arr.shape[0],1))\n",
    "            temp_arr = np.hstack((temp_arr,zeros))\n",
    "            temp_arr = temp_arr* np.log(10)* 349.757\n",
    "            temp_dict[key].append(temp_arr)\n",
    "        else:\n",
    "            temp_arr = np.array(reaction_set)\n",
    "            #print(temp_arr.shape,key,i)\n",
    "            temp_arr = temp_arr.reshape((temp_arr.shape[0],1))\n",
    "            zeros = np.zeros((temp_arr.shape[0],1))\n",
    "            temp_arr = np.hstack((temp_arr,zeros))\n",
    "            temp_arr = temp_arr* np.log(10)\n",
    "            temp_dict[key]\n",
    "            temp_dict[key].append(temp_arr)\n",
    "\n",
    "\n"
   ]
  },
  {
   "cell_type": "code",
   "execution_count": 274,
   "metadata": {},
   "outputs": [],
   "source": [
    "empty_nested_list =[]\n",
    "for nmb_reactions in range(len(temp_dict[key_words[0]])):\n",
    "    empty_nested_list.append([])"
   ]
  },
  {
   "cell_type": "code",
   "execution_count": 275,
   "metadata": {},
   "outputs": [],
   "source": [
    "for i in range(len(empty_nested_list)):\n",
    "    for word in key_words:\n",
    "        empty_nested_list[i].append(temp_dict[word][i])"
   ]
  }
 ],
 "metadata": {
  "kernelspec": {
   "display_name": "Python 3",
   "language": "python",
   "name": "python3"
  },
  "language_info": {
   "codemirror_mode": {
    "name": "ipython",
    "version": 3
   },
   "file_extension": ".py",
   "mimetype": "text/x-python",
   "name": "python",
   "nbconvert_exporter": "python",
   "pygments_lexer": "ipython3",
   "version": "3.7.6"
  }
 },
 "nbformat": 4,
 "nbformat_minor": 4
}
