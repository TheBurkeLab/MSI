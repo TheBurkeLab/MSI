{
 "cells": [
  {
   "cell_type": "code",
   "execution_count": 2,
   "metadata": {},
   "outputs": [],
   "source": [
    "import pandas as pd\n",
    "import numpy as np\n",
    "import matplotlib.pyplot as plt\n",
    "from scipy.optimize import curve_fit\n",
    "import cantera as ct"
   ]
  },
  {
   "cell_type": "code",
   "execution_count": 3,
   "metadata": {},
   "outputs": [],
   "source": [
    "def func(T, A, n, Ea):\n",
    "    return np.log(A) + n*np.log(T)+ (-Ea/(1.987*T))\n",
    "\n",
    "def calc_rc(T,A,n,Ea):\n",
    "    k = []\n",
    "    for temp in T:\n",
    "        k.append(A *(temp**n)* np.exp(-Ea/ (1.987* temp)))\n",
    "    return k"
   ]
  },
  {
   "cell_type": "code",
   "execution_count": 15,
   "metadata": {},
   "outputs": [],
   "source": [
    "df = pd.read_csv('O_H2_OH_O.csv')"
   ]
  },
  {
   "cell_type": "code",
   "execution_count": 16,
   "metadata": {},
   "outputs": [
    {
     "name": "stdout",
     "output_type": "stream",
     "text": [
      "931392.7378703641 2.280181790871525 6542.415395433161\n"
     ]
    },
    {
     "data": {
      "text/plain": [
       "[<matplotlib.lines.Line2D at 0x7f9d3ee49550>]"
      ]
     },
     "execution_count": 16,
     "metadata": {},
     "output_type": "execute_result"
    },
    {
     "data": {
      "image/png": "[encoded data removed]",
      "text/plain": [
       "<Figure size 432x288 with 1 Axes>"
      ]
     },
     "metadata": {
      "needs_background": "light"
     },
     "output_type": "display_data"
    }
   ],
   "source": [
    "popt, pcov = curve_fit(func, df['T'], np.log(df['k']))\n",
    "k_fit = calc_rc(df['T'],popt[0],popt[1],popt[2])\n",
    "print(popt[0],popt[1],popt[2])\n",
    "plt.semilogy(df['T'],k_fit)\n",
    "plt.semilogy(df['T'],df['k'])"
   ]
  },
  {
   "cell_type": "code",
   "execution_count": 18,
   "metadata": {},
   "outputs": [
    {
     "name": "stdout",
     "output_type": "stream",
     "text": [
      "25296599.999999996\n",
      "2887.1110000000003\n"
     ]
    }
   ],
   "source": [
    "#OH + H2 = H2O + H\n",
    "\n",
    "A = 4.2e-17*6.023e23\n",
    "print(A)\n",
    "n=1.78\n",
    "Ea = 1453*1.987\n",
    "print(Ea)"
   ]
  },
  {
   "cell_type": "code",
   "execution_count": 21,
   "metadata": {},
   "outputs": [],
   "source": [
    "#CO + OH = HOCO\n",
    "\n",
    "T= np.arange(200,2500)\n",
    "k=[]\n",
    "for temp in T:\n",
    "    kcalc= (10**-3.37)*(temp**-3.50)*np.exp(-887.2/temp)\n",
    "    k.append(kcalc*6.023e23)"
   ]
  },
  {
   "cell_type": "code",
   "execution_count": 22,
   "metadata": {},
   "outputs": [
    {
     "name": "stdout",
     "output_type": "stream",
     "text": [
      "2.569288441741996e+20 -3.5 1762.8664000000003\n"
     ]
    },
    {
     "data": {
      "text/plain": [
       "[<matplotlib.lines.Line2D at 0x7f9d3f5bae50>]"
      ]
     },
     "execution_count": 22,
     "metadata": {},
     "output_type": "execute_result"
    },
    {
     "data": {
      "image/png": "[encoded data removed]",
      "text/plain": [
       "<Figure size 432x288 with 1 Axes>"
      ]
     },
     "metadata": {
      "needs_background": "light"
     },
     "output_type": "display_data"
    }
   ],
   "source": [
    "popt, pcov = curve_fit(func, T, np.log(np.array(k)))\n",
    "k_fit = calc_rc(T,popt[0],popt[1],popt[2])\n",
    "print(popt[0],popt[1],popt[2])\n",
    "plt.semilogy(T,k_fit)\n",
    "plt.semilogy(T,k)"
   ]
  },
  {
   "cell_type": "code",
   "execution_count": 23,
   "metadata": {},
   "outputs": [],
   "source": [
    "#CO + OH = H + CO2\n",
    "\n",
    "T= np.arange(200,2500)\n",
    "k=[]\n",
    "for temp in T:\n",
    "    kcalc= (10**-17.84)*(temp**1.73)*np.exp(-(-334.9)/temp)\n",
    "    k.append(kcalc*6.023e23)"
   ]
  },
  {
   "cell_type": "code",
   "execution_count": 24,
   "metadata": {},
   "outputs": [
    {
     "name": "stdout",
     "output_type": "stream",
     "text": [
      "870588.3739202741 1.7299999999999998 -665.4462999999996\n"
     ]
    },
    {
     "data": {
      "text/plain": [
       "[<matplotlib.lines.Line2D at 0x7f9d3f5d1750>]"
      ]
     },
     "execution_count": 24,
     "metadata": {},
     "output_type": "execute_result"
    },
    {
     "data": {
      "image/png": "[encoded data removed]",
      "text/plain": [
       "<Figure size 432x288 with 1 Axes>"
      ]
     },
     "metadata": {
      "needs_background": "light"
     },
     "output_type": "display_data"
    }
   ],
   "source": [
    "popt, pcov = curve_fit(func, T, np.log(np.array(k)))\n",
    "k_fit = calc_rc(T,popt[0],popt[1],popt[2])\n",
    "print(popt[0],popt[1],popt[2])\n",
    "plt.semilogy(T,k_fit)\n",
    "plt.semilogy(T,k)"
   ]
  },
  {
   "cell_type": "code",
   "execution_count": null,
   "metadata": {},
   "outputs": [],
   "source": []
  }
 ],
 "metadata": {
  "kernelspec": {
   "display_name": "Python 3",
   "language": "python",
   "name": "python3"
  },
  "language_info": {
   "codemirror_mode": {
    "name": "ipython",
    "version": 3
   },
   "file_extension": ".py",
   "mimetype": "text/x-python",
   "name": "python",
   "nbconvert_exporter": "python",
   "pygments_lexer": "ipython3",
   "version": "3.7.6"
  }
 },
 "nbformat": 4,
 "nbformat_minor": 4
}
