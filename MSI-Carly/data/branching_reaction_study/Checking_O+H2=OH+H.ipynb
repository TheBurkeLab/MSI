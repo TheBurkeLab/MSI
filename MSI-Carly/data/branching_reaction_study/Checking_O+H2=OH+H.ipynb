{
 "cells": [
  {
   "cell_type": "code",
   "execution_count": 28,
   "metadata": {},
   "outputs": [],
   "source": [
    "import numpy as np\n",
    "import cantera as ct\n",
    "import matplotlib.pyplot as plt"
   ]
  },
  {
   "cell_type": "code",
   "execution_count": 29,
   "metadata": {},
   "outputs": [],
   "source": [
    "gas = ct.Solution('ffcm1_branching_reactions_theory.cti')\n",
    "\n",
    "\n",
    "reaction_equations = gas.reaction_equations()\n",
    "reaction_equations[gas.reaction_equations().index('H2 + O <=> H + OH')]\n",
    "k1_index = gas.reaction_equations().index('H2 + O <=> H + OH')\n",
    "constant = np.log10(6.0221409e+23)\n"
   ]
  },
  {
   "cell_type": "code",
   "execution_count": 30,
   "metadata": {},
   "outputs": [],
   "source": [
    "\n",
    "gas2 = ct.Solution('/Users/carlylagrotta/Dropbox/Columbia/MSI/data/branching_reaction_study/o+h2_rate_constant/ffcm1_branching_reactions_testing_chebyshev.cti')\n",
    "\n",
    "reaction_equations2 = gas2.reaction_equations()\n",
    "reaction_equations2[gas2.reaction_equations().index('H2 + O <=> H + OH')]\n",
    "k1_index2 = gas2.reaction_equations().index('H2 + O <=> H + OH')\n",
    "\n"
   ]
  },
  {
   "cell_type": "code",
   "execution_count": 31,
   "metadata": {},
   "outputs": [
    {
     "data": {
      "text/plain": [
       "array([[8.35536926e+00, 0.00000000e+00],\n",
       "       [4.51696332e+00, 0.00000000e+00],\n",
       "       [8.62120990e-01, 0.00000000e+00],\n",
       "       [9.91541798e-02, 0.00000000e+00],\n",
       "       [2.63491355e-02, 0.00000000e+00],\n",
       "       [2.71860470e-02, 0.00000000e+00],\n",
       "       [1.23115766e-02, 0.00000000e+00],\n",
       "       [3.76408647e-03, 0.00000000e+00]])"
      ]
     },
     "execution_count": 31,
     "metadata": {},
     "output_type": "execute_result"
    }
   ],
   "source": [
    "#1\n",
    "#P3 -> P4--\n",
    "cheby_P3_P4_fit= np.array([-15.4243816544346, 4.516963321741324, 0.8621209901999956, 0.0991541798006624, 0.026349135528758845, 0.027186046982358332, 0.012311576558945703, 0.003764086474732007])\n",
    "cheby_P3_P4_fit[0] = cheby_P3_P4_fit[0]+constant\n",
    "\n",
    "\n",
    "cheby_P3_P4_fit = cheby_P3_P4_fit.reshape((8,1))\n",
    "zeros = np.zeros((8,1))\n",
    "cheby_P3_P4_fit = np.hstack((cheby_P3_P4_fit,zeros))\n",
    "cheby_P3_P4_fit"
   ]
  },
  {
   "cell_type": "code",
   "execution_count": 32,
   "metadata": {},
   "outputs": [
    {
     "data": {
      "text/plain": [
       "[<matplotlib.lines.Line2D at 0x7fa634df55d0>]"
      ]
     },
     "execution_count": 32,
     "metadata": {},
     "output_type": "execute_result"
    },
    {
     "data": {
      "image/png": "[encoded data removed]",
      "text/plain": [
       "<Figure size 432x288 with 1 Axes>"
      ]
     },
     "metadata": {
      "needs_background": "light"
     },
     "output_type": "display_data"
    }
   ],
   "source": [
    "k1=[]\n",
    "k1_2 = []\n",
    "temp_list = np.arange(200,2500)\n",
    "for temperature in np.arange(200,2500):\n",
    "    gas.TPX = temperature,ct.one_atm,{'Ar':1}\n",
    "    gas2.TPX = temperature,ct.one_atm,{'Ar':1}\n",
    "    k1.append(gas.forward_rate_constants[k1_index]*1000)\n",
    "    k1_2.append(gas2.forward_rate_constants[k1_index2]*1000)\n",
    "\n",
    "plt.figure()\n",
    "plt.semilogy(temp_list,k1)\n",
    "plt.semilogy(temp_list,k1_2)"
   ]
  },
  {
   "cell_type": "code",
   "execution_count": null,
   "metadata": {},
   "outputs": [],
   "source": []
  }
 ],
 "metadata": {
  "kernelspec": {
   "display_name": "Python 3",
   "language": "python",
   "name": "python3"
  },
  "language_info": {
   "codemirror_mode": {
    "name": "ipython",
    "version": 3
   },
   "file_extension": ".py",
   "mimetype": "text/x-python",
   "name": "python",
   "nbconvert_exporter": "python",
   "pygments_lexer": "ipython3",
   "version": "3.7.6"
  }
 },
 "nbformat": 4,
 "nbformat_minor": 4
}
